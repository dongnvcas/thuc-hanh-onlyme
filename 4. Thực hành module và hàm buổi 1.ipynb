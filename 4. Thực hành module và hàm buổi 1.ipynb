{
 "cells": [
  {
   "cell_type": "markdown",
   "id": "a2a38651",
   "metadata": {},
   "source": [
    "## Bài 1:\n",
    "Viết hàm my_info() nhận vào 2 tham số `name` và `course`, sau đó in ra thông tin tương ứng. Ví dụ: \n",
    "```\n",
    "my_info('Long', 'Python')\n",
    "\n",
    "Output: \n",
    "My name is Long.\n",
    "I'm studying Python.\n",
    "```"
   ]
  },
  {
   "cell_type": "code",
   "execution_count": 9,
   "id": "392f869d",
   "metadata": {},
   "outputs": [
    {
     "name": "stdout",
     "output_type": "stream",
     "text": [
      "My name is Bee\n",
      "I'm studying Python\n"
     ]
    }
   ],
   "source": [
    "def my_info(name = \"Bee\", course = \"Python\"):\n",
    "    # code below this line\n",
    "    print(f\"My name is {name}\")\n",
    "    print(f\"I'm studying {course}\")\n",
    "    pass\n",
    "    # code above this line\n",
    "    \n",
    "my_info()"
   ]
  },
  {
   "cell_type": "markdown",
   "id": "7390cb06",
   "metadata": {},
   "source": [
    "## Bài 2:\n",
    "Viết hàm sum_even() nhận vào một số `n` và in ra tổng các số chẵn từ 2 đến n.\n",
    "Ví dụ:\n",
    "```\n",
    "sum_even(10)\n",
    "\n",
    "Output:\n",
    "30\n",
    "```"
   ]
  },
  {
   "cell_type": "code",
   "execution_count": 1,
   "id": "df52dd4b",
   "metadata": {},
   "outputs": [
    {
     "data": {
      "text/plain": [
       "2550"
      ]
     },
     "execution_count": 1,
     "metadata": {},
     "output_type": "execute_result"
    }
   ],
   "source": [
    "def sum_even(n=10):\n",
    "    # code below this line\n",
    "    sum = 0\n",
    "    for i in range(1,n+1):\n",
    "        if i%2 == 0:\n",
    "            sum += i\n",
    "    return sum\n",
    "    pass\n",
    "    # code above this line\n",
    "\n",
    "sum_even(100)"
   ]
  },
  {
   "cell_type": "markdown",
   "id": "0f69e7f2",
   "metadata": {},
   "source": [
    "## Bài 3:\n",
    "Viết hàm easy_math() nhận vào 3 tham số `num1`, `op`, `num 2` để thực hiện phép tính tương ứng và in ra kết quả. \n",
    "Ví dụ:\n",
    "```\n",
    "easy_math(5, '+', 5)\n",
    "\n",
    "Output:\n",
    "10\n",
    "```\n"
   ]
  },
  {
   "cell_type": "code",
   "execution_count": 16,
   "id": "ce6058ca",
   "metadata": {},
   "outputs": [],
   "source": [
    "def easy_math(num1 = 1, op = \"+\", num2 = 2):\n",
    "    # code below this line\n",
    "    if op == \"+\":\n",
    "        result = num1 + num2\n",
    "        print(\"{} {} {} = {}\".format(num1, op, num2, result))\n",
    "    elif op == \"-\":\n",
    "        result = num1 - num2\n",
    "        print(\"{} {} {} = {}\".format(num1, op, num2, result))\n",
    "    elif op == \"*\":\n",
    "        result = num1 * num2\n",
    "        print(\"{} {} {} = {}\".format(num1, op, num2, result))\n",
    "    elif op == \"/\":\n",
    "        result = num1 / num2\n",
    "        print(\"{} {} {} = {}\".format(num1, op, num2, result))\n",
    "    else:\n",
    "        print(\"Please input the correct option\")\n",
    "    pass\n",
    "    # code above this line"
   ]
  },
  {
   "cell_type": "code",
   "execution_count": 19,
   "id": "b57f2b84",
   "metadata": {
    "scrolled": true
   },
   "outputs": [
    {
     "name": "stdout",
     "output_type": "stream",
     "text": [
      "5 * 2 = 10\n"
     ]
    }
   ],
   "source": [
    "easy_math(5,\"*\",2)"
   ]
  },
  {
   "cell_type": "markdown",
   "id": "3239a01d",
   "metadata": {},
   "source": [
    "## Bài 4:\n",
    "Viết hàm check_even() nhận vào tham số `number` và kiểm tra xem `number` có phải là số chẵn hay không.\n",
    "Ví dụ:\n",
    "```\n",
    "check_even(5)\n",
    "\n",
    "Output:\n",
    "5 là số lẻ\n",
    "```"
   ]
  },
  {
   "cell_type": "code",
   "execution_count": 2,
   "id": "f6a0918a",
   "metadata": {},
   "outputs": [
    {
     "name": "stdout",
     "output_type": "stream",
     "text": [
      "6 is an even number\n"
     ]
    }
   ],
   "source": [
    "def check_even(number=2):\n",
    "    # code below this line\n",
    "    if number % 2 == 0:\n",
    "        print(f\"{number} is an even number\")\n",
    "    else:\n",
    "        print(f\"{number} is an odd number\")\n",
    "    pass\n",
    "    # code above this line\n",
    "check_even(6)"
   ]
  },
  {
   "cell_type": "markdown",
   "id": "27a4bd3b",
   "metadata": {},
   "source": [
    "## Bài 5:\n",
    "Viết hàm transform_str() nhận vào tham số `string` và in ra `string` ở dạng uppercase và lowercase. Ví dụ:\n",
    "```\n",
    "transform_str('Function Is Magic!')\n",
    "\n",
    "Output:\n",
    "Lowercase: function is magic!\n",
    "Uppercase: FUNCTION IS MAGIC!\n",
    "```"
   ]
  },
  {
   "cell_type": "code",
   "execution_count": 21,
   "id": "ae2891a8",
   "metadata": {},
   "outputs": [
    {
     "name": "stdout",
     "output_type": "stream",
     "text": [
      "Lowercase:function is magic!\n",
      "Uppercase:FUNCTION IS MAGIC!\n"
     ]
    }
   ],
   "source": [
    "def transform_str(string):\n",
    "    # code below this line\n",
    "    print(\"Lowercase:\" + string.lower())\n",
    "    print(\"Uppercase:\" + string.upper())\n",
    "    pass\n",
    "    # code above this line\n",
    "\n",
    "transform_str('Function Is Magic!')"
   ]
  },
  {
   "cell_type": "markdown",
   "id": "163331db",
   "metadata": {},
   "source": [
    "## Bài 6:\n",
    "Viết hàm calculate_factorial() nhận vào tham số `number` và in ra giai thừa của tham số đó. Ví dụ:\n",
    "```\n",
    "calculate_factorial(5)\n",
    "\n",
    "Output: 120\n",
    "```"
   ]
  },
  {
   "cell_type": "code",
   "execution_count": 26,
   "id": "0047ec9d",
   "metadata": {},
   "outputs": [
    {
     "data": {
      "text/plain": [
       "24"
      ]
     },
     "execution_count": 26,
     "metadata": {},
     "output_type": "execute_result"
    }
   ],
   "source": [
    "def calculate_factorial(number = 5):\n",
    "    # code below this line\n",
    "    result = 1\n",
    "    for i in range(1,number+1):\n",
    "        result *= i\n",
    "    return result\n",
    "    pass\n",
    "    # code above this line\n",
    "\n",
    "calculate_factorial(4)"
   ]
  },
  {
   "cell_type": "markdown",
   "id": "6d381154",
   "metadata": {},
   "source": [
    "## Bài 7:\n",
    "Dãy Fibonacci là dãy vô hạn các số tự nhiên bắt đầu bằng 1 và 1, sau đó các số tiếp theo sẽ bằng tổng của 2 số liền trước nó. \n",
    "\n",
    "Cụ thể, các số đầu tiên của dãy Fibonacci là 1, 1, 2, 3, 5, 8, 13, 21, 34, 55, 89, 144, 233, 377, 610... \n",
    "\n",
    "Nhiệm vụ: Viết chương trình find_fibo() nhận vào tham số `index` và in ra số Fibonacci ở vị trí `index`. Nếu `index` bằng 0 thì in ra 0. Ví dụ:\n",
    "\n",
    "```\n",
    "find_fibo(1)\n",
    "\n",
    "Output:\n",
    "1\n",
    "```\n",
    "-------------------\n",
    "```\n",
    "find_fibo(6)\n",
    "\n",
    "Output:\n",
    "8\n",
    "```\n",
    "-------------------\n",
    "```\n",
    "find_fibo(0)\n",
    "\n",
    "Output:\n",
    "0\n",
    "```"
   ]
  },
  {
   "cell_type": "code",
   "execution_count": 4,
   "id": "0b8b2dc3",
   "metadata": {},
   "outputs": [
    {
     "data": {
      "text/plain": [
       "55"
      ]
     },
     "execution_count": 4,
     "metadata": {},
     "output_type": "execute_result"
    }
   ],
   "source": [
    "def find_fibo(index=1):\n",
    "    # code below this line\n",
    "    fibo = []\n",
    "    for i in range(0, index + 1):\n",
    "        if i == 0:\n",
    "            fibo.append(0)\n",
    "        elif i == 1:\n",
    "            fibo.append(1)\n",
    "        elif i == 2:\n",
    "            fibo.append(1)\n",
    "        else:\n",
    "            fibo.append(fibo[i-1] + fibo[i-2]) \n",
    "    return fibo[index]\n",
    "    pass\n",
    "    # code above this line\n",
    "\n",
    "find_fibo(10)"
   ]
  },
  {
   "cell_type": "markdown",
   "id": "65db4551",
   "metadata": {},
   "source": [
    "## Bài 8:\n",
    "Viết hàm find_divisors() nhận vào một số nguyên dương `number` và in ra tất cả các ước của `number`. Ví dụ:\n",
    "```\n",
    "find_divisors(24)\n",
    "\n",
    "Output:\n",
    "Ước của 24 là: 1, 2, 3, 4, 6, 8, 12, 24\n",
    "```"
   ]
  },
  {
   "cell_type": "code",
   "execution_count": 37,
   "id": "d9b20c10",
   "metadata": {},
   "outputs": [
    {
     "name": "stdout",
     "output_type": "stream",
     "text": [
      "Ước của 24 là: 1, 2, 3, 4, 6, 8, 12, 24\n"
     ]
    }
   ],
   "source": [
    "def find_divisors(number=24):\n",
    "    # code below this line\n",
    "    result = str(\"1\")\n",
    "    for i in range(2,number+1):\n",
    "        if number % i == 0:\n",
    "            result = result + \", \" + str(i)\n",
    "    print(\"Ước của {} là:\".format(number), result)\n",
    "    pass\n",
    "    # code above this line\n",
    "\n",
    "find_divisors(24)"
   ]
  },
  {
   "cell_type": "markdown",
   "id": "37000ab2",
   "metadata": {},
   "source": [
    "## Bài 9:\n",
    "Viết hàm solve_equation() để giải phương trình bậc nhất ax + b = 0 với `a` và `b` là 2 tham số đầu vào. Ví dụ:\n",
    "```\n",
    "solve_equation(2, -4)\n",
    "\n",
    "Output: \n",
    "x = 2\n",
    "```\n",
    "---\n",
    "```\n",
    "solve_equation(0, 0)\n",
    "\n",
    "Output: \n",
    "Phương trình vô số nghiệm\n",
    "```\n",
    "---\n",
    "```\n",
    "solve_equation(0, -4)\n",
    "\n",
    "Output: \n",
    "Phương trình vô nghiệm\n",
    "```"
   ]
  },
  {
   "cell_type": "code",
   "execution_count": 40,
   "id": "abfc5589",
   "metadata": {},
   "outputs": [
    {
     "name": "stdout",
     "output_type": "stream",
     "text": [
      "Phương trình vô nghiệm\n"
     ]
    }
   ],
   "source": [
    "def solve_equation(a=2, b=2):\n",
    "    # code below this line\n",
    "    if a == 0 and b == 0:\n",
    "        print(\"Phương trình vô số nghiệm\")\n",
    "    elif a == 0 and b != 0:\n",
    "        print(\"Phương trình vô nghiệm\")\n",
    "    else:\n",
    "        print(\"x = {}\".format(-b/a))\n",
    "    pass\n",
    "    # code above this line\n",
    "\n",
    "solve_equation(0, 12)"
   ]
  },
  {
   "cell_type": "markdown",
   "id": "a483ed69",
   "metadata": {},
   "source": [
    "## Bài 10:\n",
    "Viết hàm find_distance() nhận vào 4 tham số `x1`, `y1`, `x2`, `y2` là tọa độ của 2 điểm trên trục tọa độ và in ra khoảng cách của 2 điểm đó theo công thức:\n",
    "```\n",
    "distance = sqrt((x1-x2)^2 + (y1-y2)^2)\n",
    "```\n",
    "Tham khảo: https://toanthaydinh.com/cong-thuc-tinh-khoang-cach-giua-2-diem/\n",
    "Khoảng cách được làm tròn 2 chữ số thập phân.\n",
    "\n",
    "Ví dụ:\n",
    "```\n",
    "find_distance(5, 2, 1, 3)\n",
    "\n",
    "Output:\n",
    "4.12\n",
    "```"
   ]
  },
  {
   "cell_type": "code",
   "execution_count": 45,
   "id": "2dcf614e",
   "metadata": {},
   "outputs": [
    {
     "data": {
      "text/plain": [
       "4.12"
      ]
     },
     "execution_count": 45,
     "metadata": {},
     "output_type": "execute_result"
    }
   ],
   "source": [
    "def find_distance(x1 = 1, y1 = 2, x2 = 3, y2 = 4):\n",
    "    # code below this line\n",
    "    import math\n",
    "    distance = math.sqrt((x1 - x2)**2 + (y1 - y2)**2)\n",
    "    return round(distance,2)\n",
    "    pass\n",
    "    # code above this line\n",
    "\n",
    "find_distance(5, 2, 1, 3)"
   ]
  },
  {
   "cell_type": "markdown",
   "id": "6236743e",
   "metadata": {},
   "source": [
    "## Bài 11(bonus):\n",
    "Viết hàm test_password() nhận vào một chuỗi(xem như là mật khẩu của người dùng).\n",
    "Sau đó kiểm tra xem đây có phải là mật khẩu mạnh hay không theo quy tắc sau:\n",
    "- Mật khẩu mạnh là mật khẩu phải có ít nhất 1 chữ hoa, 1 chữ thường, 1 số và 1 ký tự đặc biệt"
   ]
  },
  {
   "cell_type": "code",
   "execution_count": 96,
   "id": "b24922e7",
   "metadata": {},
   "outputs": [
    {
     "name": "stdout",
     "output_type": "stream",
     "text": [
      "Mật khẩu yếu\n"
     ]
    }
   ],
   "source": [
    "def test_password(password=\"abc123\"):\n",
    "    # code below this line\n",
    "    listcheck = [\"!\",\"@\",\"#\",\"$\",\"%\",\"^\",\"&\",\"*\",\"(\", \")\",\"+\"]\n",
    "    check = False\n",
    "    for i in password:\n",
    "        if i.isnumeric() == True:\n",
    "            for k in password:\n",
    "                if k.islower() == True:\n",
    "                    for l in password:\n",
    "                        if l.isupper() == True:\n",
    "                            for m in password:\n",
    "                                if m in listcheck:\n",
    "                                    check = True\n",
    "    if check == True:\n",
    "        print(\"Mật khẩu mạnh\")\n",
    "    else:\n",
    "        print(\"Mật khẩu yếu\")\n",
    "    pass\n",
    "    # code above this line\n",
    "test_password(\"Abc12\")"
   ]
  }
 ],
 "metadata": {
  "kernelspec": {
   "display_name": "Python 3 (ipykernel)",
   "language": "python",
   "name": "python3"
  },
  "language_info": {
   "codemirror_mode": {
    "name": "ipython",
    "version": 3
   },
   "file_extension": ".py",
   "mimetype": "text/x-python",
   "name": "python",
   "nbconvert_exporter": "python",
   "pygments_lexer": "ipython3",
   "version": "3.11.5"
  }
 },
 "nbformat": 4,
 "nbformat_minor": 5
}
