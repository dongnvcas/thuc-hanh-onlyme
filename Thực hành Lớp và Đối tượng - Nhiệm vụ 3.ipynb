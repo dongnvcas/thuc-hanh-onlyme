{
 "cells": [
  {
   "cell_type": "code",
   "execution_count": null,
   "id": "a42fa0c7",
   "metadata": {},
   "outputs": [],
   "source": [
    "\"\"\"\n",
    "Tạo class có tên Equation gồm có các thuộc tính và phương thức sau:\n",
    "+ Thuộc tính: number1, number2\n",
    "+ Phương thức:\n",
    "- Phương thức tạo __init()__\n",
    "- print_info(): dùng để hiển thị number1, number2\n",
    "- add(): dùng để cộng number1, number2\n",
    "- subtract(): trừ number1, number2\n",
    "- multiply(): dùng để nhân number1, number2\n",
    "- divide(): dùng để chia number1, number2.\n",
    "\n",
    "Sau khi tạo class, khởi tạo một object Equation và in ra kết quả tính toán từ các hàm thực hiện phép tính\n",
    "\"\"\""
   ]
  },
  {
   "cell_type": "code",
   "execution_count": 3,
   "id": "9485c0a8",
   "metadata": {},
   "outputs": [],
   "source": [
    "class Equation:\n",
    "    def __init__(self, num1, num2):\n",
    "        self.num1 = num1\n",
    "        self.num2 = num2\n",
    "    def print_info(self):\n",
    "        print(self.num1, self.num2)\n",
    "    def add(self):\n",
    "        print(f\"Sum between {self.num1} and {self.num2} is {self.num1 + self.num2}\")\n",
    "    def subtract(self):\n",
    "        print(f\"Subtract between {self.num1} and {self.num2} is {self.num1 - self.num2}\")\n",
    "    def multiply(self):\n",
    "        print(f\"Multiply between {self.num1} and {self.num2} is {self.num1 * self.num2}\")\n",
    "    def divide(self):\n",
    "        print(f\"Divide between {self.num1} and {self.num2} is {self.num1 / self.num2}\")\n"
   ]
  },
  {
   "cell_type": "code",
   "execution_count": 4,
   "id": "73a21e25",
   "metadata": {},
   "outputs": [
    {
     "name": "stdout",
     "output_type": "stream",
     "text": [
      "10 5\n",
      "Sum between 10 and 5 is 15\n",
      "Subtract between 10 and 5 is 5\n",
      "Multiply between 10 and 5 is 50\n",
      "Divide between 10 and 5 is 2.0\n"
     ]
    }
   ],
   "source": [
    "a = Equation(10, 5)\n",
    "a.print_info()\n",
    "a.add()\n",
    "a.subtract()\n",
    "a.multiply()\n",
    "a.divide()"
   ]
  }
 ],
 "metadata": {
  "kernelspec": {
   "display_name": "Python 3 (ipykernel)",
   "language": "python",
   "name": "python3"
  },
  "language_info": {
   "codemirror_mode": {
    "name": "ipython",
    "version": 3
   },
   "file_extension": ".py",
   "mimetype": "text/x-python",
   "name": "python",
   "nbconvert_exporter": "python",
   "pygments_lexer": "ipython3",
   "version": "3.12.3"
  }
 },
 "nbformat": 4,
 "nbformat_minor": 5
}
