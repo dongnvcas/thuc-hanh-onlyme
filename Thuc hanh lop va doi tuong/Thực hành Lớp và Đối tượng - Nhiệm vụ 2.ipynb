{
 "cells": [
  {
   "cell_type": "code",
   "execution_count": null,
   "id": "1b7705b3",
   "metadata": {},
   "outputs": [],
   "source": [
    "\"\"\"\n",
    "Viết class NhanVien gồm các thuộc tính:\n",
    "+ Tên\n",
    "+ Tuổi\n",
    "+ Địa chỉ\n",
    "+ Tiền lương\n",
    "+ Tổng số giờ làm\n",
    "\n",
    "Và các phương thức:\n",
    "- Phương thức __init__()\n",
    "- print_info() : In ra tất cả các thông tin của nhân viên\n",
    "- tinh_thuong(): Tính toán và trả về số tiền thưởng của nhân viên theo công thức sau:\n",
    "Nếu tổng số giờ làm của nhân viên >=200 thì thưởng = lương * 20%\n",
    "Nếu tổng số giờ làm của nhân viên <200 và >=100 thì thưởng = lương * 10%\n",
    "Nếu tổng số giờ làm của nhân viên <100 thì thưởng = 0\n",
    "\"\"\""
   ]
  },
  {
   "cell_type": "code",
   "execution_count": 5,
   "id": "3cf0f41d",
   "metadata": {},
   "outputs": [],
   "source": [
    "class NhanVien:\n",
    "    def __init__(self, ten, tuoi, dia_chi, tien_luong, tong_so_gio_lam):\n",
    "        self.ten = ten\n",
    "        self.tuoi = tuoi\n",
    "        self.dia_chi = dia_chi\n",
    "        self.tien_luong = tien_luong\n",
    "        self.tong_so_gio_lam = tong_so_gio_lam\n",
    "    def print_info(self):\n",
    "        print(f\"\"\"\n",
    "My name is {self.ten}\n",
    "I'm {self.tuoi} years old\n",
    "My address is: {self.dia_chi}\n",
    "My income is {self.tien_luong} VND\n",
    "My total working hours is: {self.tong_so_gio_lam} hours\"\"\")\n",
    "    def tinh_thuong(self):\n",
    "        if self.tong_so_gio_lam >= 200:\n",
    "            thuong = self.tien_luong * 0.2\n",
    "        elif self.tong_so_gio_lam < 200 and self.tong_so_gio_lam >= 100:\n",
    "            thuong = self.tien_luong * 0.1\n",
    "        else:\n",
    "            thuong = 0\n",
    "        print(f\"My bonus is: {thuong}\")"
   ]
  },
  {
   "cell_type": "code",
   "execution_count": 6,
   "id": "11b1ad09",
   "metadata": {},
   "outputs": [
    {
     "name": "stdout",
     "output_type": "stream",
     "text": [
      "\n",
      "My name is Bee\n",
      "I'm 32 years old\n",
      "My address is: Bangkok\n",
      "My income is 35000000 VND\n",
      "My total working hours is: 300 hours\n",
      "My bonus is: 7000000.0\n"
     ]
    }
   ],
   "source": [
    "a = NhanVien('Bee', 32, 'Bangkok', 35000000, 300)\n",
    "a.print_info()\n",
    "a.tinh_thuong()"
   ]
  }
 ],
 "metadata": {
  "kernelspec": {
   "display_name": "Python 3 (ipykernel)",
   "language": "python",
   "name": "python3"
  },
  "language_info": {
   "codemirror_mode": {
    "name": "ipython",
    "version": 3
   },
   "file_extension": ".py",
   "mimetype": "text/x-python",
   "name": "python",
   "nbconvert_exporter": "python",
   "pygments_lexer": "ipython3",
   "version": "3.12.3"
  }
 },
 "nbformat": 4,
 "nbformat_minor": 5
}
