{
 "cells": [
  {
   "cell_type": "code",
   "execution_count": 1,
   "id": "7c279d99",
   "metadata": {},
   "outputs": [
    {
     "name": "stdout",
     "output_type": "stream",
     "text": [
      "1\n",
      "2\n",
      "3\n",
      "4\n",
      "5\n",
      "6\n",
      "7\n",
      "8\n",
      "9\n",
      "10\n"
     ]
    }
   ],
   "source": [
    "'''\n",
    "Warm-up: In ra 10 số tự nhiên đầu tiên từ 1 đến 10\n",
    "'''\n",
    "for i in range(1,11):\n",
    "    print(i)"
   ]
  },
  {
   "cell_type": "code",
   "execution_count": 1,
   "id": "66918d7e",
   "metadata": {},
   "outputs": [
    {
     "name": "stdout",
     "output_type": "stream",
     "text": [
      "Vui lòng nhập vào số nguyên dương n: 5\n",
      "Tổng các số tự nhiên từ 1 đến n là: 15\n"
     ]
    }
   ],
   "source": [
    "'''\n",
    "Bài 1: Nhập vào số nguyên dương n. Tính tổng các số tự nhiên từ 1 đến n.\n",
    "'''\n",
    "n = int(input(\"Vui lòng nhập vào số nguyên dương n: \"))\n",
    "sum = 0\n",
    "for i in range(1,n+1):\n",
    " sum += i\n",
    "print(f\"Tổng các số tự nhiên từ 1 đến n là: {sum}\")"
   ]
  },
  {
   "cell_type": "code",
   "execution_count": 2,
   "id": "be255bdc",
   "metadata": {},
   "outputs": [
    {
     "name": "stdout",
     "output_type": "stream",
     "text": [
      "Nhập vào một số nguyên dương: 3\n",
      "Bảng cửu chương từ 1 đến 10 của 3 là:\n",
      "1 x 3 = 3\n",
      "2 x 3 = 6\n",
      "3 x 3 = 9\n",
      "4 x 3 = 12\n",
      "5 x 3 = 15\n",
      "6 x 3 = 18\n",
      "7 x 3 = 21\n",
      "8 x 3 = 24\n",
      "9 x 3 = 27\n",
      "10 x 3 = 30\n"
     ]
    }
   ],
   "source": [
    "'''\n",
    "Bài 2: Nhập vào số nguyên dương n. In ra bảng cửu chương từ 1 đến 10 của n.\n",
    "'''\n",
    "n = int(input(\"Nhập vào một số nguyên dương: \"))\n",
    "print(f\"Bảng cửu chương từ 1 đến 10 của {n} là:\")\n",
    "for i in range (1,11):\n",
    " print(\"{} x {} = {}\".format(i, n, i*n))"
   ]
  },
  {
   "cell_type": "code",
   "execution_count": 4,
   "id": "681c029c",
   "metadata": {},
   "outputs": [
    {
     "name": "stdout",
     "output_type": "stream",
     "text": [
      " Nhập vào một số nguyên dương: 1331\n",
      "Số 1331 là số có 4 chữ số\n"
     ]
    }
   ],
   "source": [
    "'''\n",
    "Bài 3: Nhập vào số nguyên dương n. Đếm xem n có bao nhiêu chữ số.\n",
    "'''\n",
    "n = (input(\" Nhập vào một số nguyên dương: \"))\n",
    "sum = 0\n",
    "for i in range (1,len(n)+1):\n",
    " sum +=1\n",
    "print(f\"Số {n} là số có {sum} chữ số\")"
   ]
  },
  {
   "cell_type": "code",
   "execution_count": 5,
   "id": "7eb58122",
   "metadata": {},
   "outputs": [
    {
     "name": "stdout",
     "output_type": "stream",
     "text": [
      " Nhập vào một số nguyên dương: 1332\n",
      "Tổng các chữ số của 1332 là: 9\n"
     ]
    }
   ],
   "source": [
    "'''\n",
    "Bài 4: Nhập vào số nguyên dương n. Tính tổng các chữ số của n.\n",
    "'''\n",
    "n = (input(\" Nhập vào một số nguyên dương: \"))\n",
    "sum = 0\n",
    "for i in range (0,len(n)):\n",
    " sum += int(n[i])\n",
    "print(f\"Tổng các chữ số của {n} là: {sum}\")"
   ]
  },
  {
   "cell_type": "code",
   "execution_count": 6,
   "id": "cf0da697",
   "metadata": {},
   "outputs": [
    {
     "name": "stdout",
     "output_type": "stream",
     "text": [
      " Nhập vào một số nguyên dương: 5\n",
      " 1\n",
      " 1 2\n",
      " 1 2 3\n",
      " 1 2 3 4\n",
      " 1 2 3 4 5\n"
     ]
    }
   ],
   "source": [
    "'''\n",
    "Bài 5: Nhập vào số nguyên dương n. Sử dụng cấu trúc vòng lặp lồng nhau(nested for loop) để in ra tam giác có dạng như sau:\n",
    "1\n",
    "1 2\n",
    "1 2 3\n",
    "1 2 3 4\n",
    "1 2 3 4 5\n",
    "'''\n",
    "n = int(input(\" Nhập vào một số nguyên dương: \"))\n",
    "sum = \"\"\n",
    "for i in range(1):\n",
    "    for i in range (1,n+1):\n",
    "        sum = sum + \" \" + str(i)\n",
    "        print(sum)"
   ]
  },
  {
   "cell_type": "code",
   "execution_count": 27,
   "id": "1ac5d880",
   "metadata": {},
   "outputs": [
    {
     "name": "stdout",
     "output_type": "stream",
     "text": [
      "Please input n: 5\n",
      " 5 4 3 2 1\n",
      " 4 3 2 1\n",
      " 3 2 1\n",
      " 2 1\n",
      " 1\n"
     ]
    }
   ],
   "source": [
    "'''\n",
    "Bài 6: Nhập vào số nguyên dương n. Sử dụng cấu trúc vòng lặp lồng nhau(nested for loop) để in ra tam giác có dạng như sau:\n",
    "5 4 3 2 1\n",
    "4 3 2 1\n",
    "3 2 1\n",
    "2 1\n",
    "1\n",
    "'''\n",
    "n = int(input(\"Please input n: \"))\n",
    "draw = \"\"\n",
    "for i in range(n,0,-1):\n",
    "    draw = draw + \" \" + str(i)\n",
    "print(draw)\n",
    "for i in range(1,n):\n",
    "    print(draw[(i*2):(n*3)])"
   ]
  },
  {
   "cell_type": "code",
   "execution_count": 8,
   "id": "5a16aa66",
   "metadata": {},
   "outputs": [
    {
     "name": "stdout",
     "output_type": "stream",
     "text": [
      "Nhập vào một số nguyên dương: 3\n",
      "Giai thừa của 3 là: 6\n"
     ]
    }
   ],
   "source": [
    "'''\n",
    "Bài 7: Nhập vào một số nguyên dương n. Tính giai thừa của n.\n",
    "Note: Giai thừa của n được tính bằng công thức: n! = n*(n - 1)*(n - 2)*...*1\n",
    "Ví dụ: 5! = 5 × 4 × 3 × 2 × 1 = 120\n",
    "'''\n",
    "n = int(input(\"Nhập vào một số nguyên dương: \"))\n",
    "giai_thua = 1\n",
    "for i in range(1,n+1):\n",
    "    giai_thua *= i\n",
    "print(f\"Giai thừa của {n} là: {giai_thua}\")"
   ]
  },
  {
   "cell_type": "code",
   "execution_count": 36,
   "id": "8dfa4890",
   "metadata": {},
   "outputs": [
    {
     "name": "stdout",
     "output_type": "stream",
     "text": [
      "Nhập vào một số nguyên dương: 1987\n",
      "Số đảo ngược của 1987 là: 7891\n"
     ]
    }
   ],
   "source": [
    "'''\n",
    "Bài 8: Viết chương trình nhập vào một số nguyên dương n và in ra số đảo ngược của n.\n",
    "Ví dụ:\n",
    "Input: 76542\n",
    "Output: 24567\n",
    "'''\n",
    "n = input(\"Nhập vào một số nguyên dương: \")\n",
    "dao_nguoc = \"\"\n",
    "for i in range(len(n)-1, -1, -1):\n",
    "    dao_nguoc = dao_nguoc + n[i]\n",
    "print(f\"Số đảo ngược của {n} là: {dao_nguoc}\")"
   ]
  },
  {
   "cell_type": "code",
   "execution_count": 39,
   "id": "326700db",
   "metadata": {},
   "outputs": [
    {
     "name": "stdout",
     "output_type": "stream",
     "text": [
      "Input n from 1 to 9: 9\n",
      "1\n",
      "22\n",
      "333\n",
      "4444\n",
      "55555\n",
      "666666\n",
      "7777777\n",
      "88888888\n",
      "999999999\n"
     ]
    }
   ],
   "source": [
    "'''\n",
    "Bài 9: Viết phần mềm nhập vào số n (từ 1 đến 9) và in ra tam giác có dạng như sau:\n",
    "1\n",
    "22\n",
    "333\n",
    "4444\n",
    "55555\n",
    "666666\n",
    "7777777\n",
    "88888888\n",
    "999999999\n",
    "'''\n",
    "n = int(input(\"Input n from 1 to 9: \"))\n",
    "for i in range(1,n+1):\n",
    "    print(i*str(i))"
   ]
  },
  {
   "cell_type": "code",
   "execution_count": 18,
   "id": "72a87d61",
   "metadata": {},
   "outputs": [
    {
     "name": "stdout",
     "output_type": "stream",
     "text": [
      "Nhập vào một câu nói: Xin Chào Thế Giới Loài Người\n",
      "Xin 3\n",
      "Chào 4\n",
      "Thế 3\n",
      "Giới 4\n",
      "Loài 4\n",
      "Người 5\n"
     ]
    }
   ],
   "source": [
    "'''\n",
    "Bài 10: Nhập vào một câu nói (mỗi từ cách nhau một khoảng trắng, không có dấu phẩy, chấm), \n",
    "hãy tách từng từ trong chuỗi ra rồi in lên màn hình. \n",
    "Mỗi từ in kèm với độ dài cửa từ đó\n",
    "\n",
    "Ví dụ:\n",
    "\n",
    "Nhập: Xin chào\n",
    "\n",
    "In:\n",
    "\n",
    "Xin 3\n",
    "\n",
    "Chào 4\n",
    "'''\n",
    "chuoi = input(\"Nhập vào một câu nói: \")\n",
    "chia_chuoi = chuoi.split(\" \")\n",
    "for i in chia_chuoi:\n",
    "    print(str(i) + \" \" + str(len(i)))"
   ]
  },
  {
   "cell_type": "code",
   "execution_count": 54,
   "id": "48421f26",
   "metadata": {},
   "outputs": [
    {
     "name": "stdout",
     "output_type": "stream",
     "text": [
      "Vui lòng nhập vào 2 số nguyên, mỗi số cách nhau bằng dấu phẩy: 123,3\n",
      "Tổng hai số 123 và 3 là: 126\n"
     ]
    }
   ],
   "source": [
    "'''\n",
    "Bài 11: Nhập vào một chuỗi có 2 số nguyên, mỗi số cách nhau một dấu phẩy, hãy tính tổng của hai số đó\n",
    "\n",
    "Ví dụ:\n",
    "\n",
    "Nhập: 2,3 In: 5\n",
    "'''\n",
    "chuoi = input(\"Vui lòng nhập vào 2 số nguyên, mỗi số cách nhau bằng dấu phẩy: \")\n",
    "vi_tri_dau_phay = 0\n",
    "for i in chuoi:\n",
    "    vi_tri_dau_phay += 1\n",
    "    if i == \",\":\n",
    "        break\n",
    "so1 = chuoi[0:vi_tri_dau_phay - 1]\n",
    "so2 = chuoi[vi_tri_dau_phay:len(chuoi)+1]\n",
    "print(f\"Tổng hai số {so1} và {so2} là: {int(so1) + int(so2)}\")"
   ]
  },
  {
   "cell_type": "code",
   "execution_count": null,
   "id": "d878c81a",
   "metadata": {},
   "outputs": [],
   "source": [
    "'''\n",
    "Bài 12: Nhập vào một chuỗi, hãy cho biết trong chuỗi đó có bao nhiêu chữ số chẵn.\n",
    "'''"
   ]
  },
  {
   "cell_type": "code",
   "execution_count": 4,
   "id": "86ef2a9a",
   "metadata": {},
   "outputs": [
    {
     "name": "stdout",
     "output_type": "stream",
     "text": [
      "2081\n"
     ]
    }
   ],
   "source": [
    "'''\n",
    "Bài 13: Cần có tổng 200.000đ từ 3 loại giấy bạc 1000đ, 2000đ, và 5000đ. Lập \n",
    "chương tình để tìm tất cả các phương án có thể.\n",
    "'''\n",
    "count = 0\n",
    "for a in range(0, 201):\n",
    "    for b in range(0, 101):\n",
    "        for c in range(0, 41):\n",
    "            if a*1000 + b*2000 + c*5000 == 200000:\n",
    "                count +=1\n",
    "print(count)"
   ]
  },
  {
   "cell_type": "code",
   "execution_count": 62,
   "id": "1f75570f",
   "metadata": {},
   "outputs": [
    {
     "name": "stdout",
     "output_type": "stream",
     "text": [
      "Nhập vào chuỗi chỉ gồm các ký tự ( ) { } [ ](){]\n",
      "False\n"
     ]
    }
   ],
   "source": [
    "'''\n",
    "Bài 14: Nhập vào một chuỗi s chỉ chứa các ký tự '(', ')', '{', '}', '[' và ']', \n",
    "xác định xem chuỗi s có hợp lệ hay không.\n",
    "\n",
    "Chuỗi đầu vào hợp lệ nếu:\n",
    "\n",
    "- Các dấu ngoặc mở phải được đóng bằng cùng một loại dấu ngoặc.\n",
    "- Dấu ngoặc mở phải được đóng theo đúng thứ tự.\n",
    "- Mọi dấu ngoặc đóng đều có một dấu ngoặc mở tương ứng cùng loại.\n",
    "\n",
    "Ví dụ 1:\n",
    "Input: s = \"()\"\n",
    "Output: True\n",
    "\n",
    "Ví dụ 2:\n",
    "Input: s = \"() [] {}\"\n",
    "Output: True\n",
    "\n",
    "Ví dụ 3:\n",
    "Input: s = \"(]\"\n",
    "Output: False\n",
    "'''\n",
    "s = input(\"Nhập vào chuỗi chỉ gồm các ký tự ( ) { } [ ]\")\n",
    "for i in range(0 , len(s)):\n",
    "    if i %2 == 0:\n",
    "        if s[i] == \"(\" and s[i+1] == \")\" or s[i] == \"[\" and s[i+1] == \"]\" or s[i] == \"{\" and s[i+1] == \"}\":\n",
    "            result = \"True\"\n",
    "        else:\n",
    "            result = \"False\"\n",
    "print(result)"
   ]
  },
  {
   "cell_type": "code",
   "execution_count": 1,
   "id": "1cc7ea23",
   "metadata": {},
   "outputs": [
    {
     "name": "stdout",
     "output_type": "stream",
     "text": [
      "Please input Roman number: XXXVIII\n",
      "38\n"
     ]
    }
   ],
   "source": [
    "'''\n",
    "Bài 15: Roman to Integer\n",
    "Chữ số La Mã được thể hiện bằng bảy ký hiệu khác nhau: I, V, X, L, C, D và M.\n",
    "\n",
    "Symbol       Value\n",
    "I             1\n",
    "V             5\n",
    "X             10\n",
    "L             50\n",
    "C             100\n",
    "D             500\n",
    "M             1000\n",
    "\n",
    "Ví dụ: 2 được viết là II bằng số La Mã, chỉ là hai cái được cộng lại với nhau. \n",
    "12 được viết là XII, đơn giản là X + II. Con số 27 được viết là XXVII, là XX + V + II.\n",
    "\n",
    "Chữ số La mã thường được viết từ lớn nhất đến nhỏ nhất từ trái sang phải. \n",
    "Tuy nhiên, chữ số cho bốn không phải là IIII. Thay vào đó, số bốn được viết là IV. \n",
    "Bởi vì cái đứng trước năm, chúng ta trừ nó ra làm bốn. Nguyên tắc tương tự cũng áp dụng cho số chín, \n",
    "được viết là IX. Có sáu trường hợp phép trừ được sử dụng:\n",
    "\n",
    "I có thể được đặt trước V (5) và X (10) để tạo thành 4 và 9.\n",
    "X có thể được đặt trước L (50) và C (100) để tạo ra 40 và 90.\n",
    "C có thể được đặt trước D (500) và M (1000) để tạo thành 400 và 900.\n",
    "Nhập vào một chuỗi đại diện cho một số La Mã, hãy chuyển nó thành một số nguyên.\n",
    "\n",
    "Ví dụ 1:\n",
    "Input: s = \"III\"\n",
    "Output: 3\n",
    "Explanation: III = 3.\n",
    "\n",
    "Ví dụ 2:\n",
    "Input: s = \"LVIII\"\n",
    "Output: 58\n",
    "Explanation: L = 50, V= 5, III = 3.\n",
    "\n",
    "Ví dụ 3:\n",
    "Input: s = \"MCMXCIV\"\n",
    "Output: 1994\n",
    "Explanation: M = 1000, CM = 900, XC = 90 and IV = 4.\n",
    "'''\n",
    "#Bài 15: Roman to Integer\n",
    "lama = input(\"Please input Roman number: \").upper()\n",
    "nguyen = 0\n",
    "for i in range(0,len(lama)):\n",
    "    if lama[i] == \"M\":\n",
    "        nguyen += 1000\n",
    "    elif lama[i] == \"D\":\n",
    "        nguyen += 500\n",
    "    elif lama[i] == \"C\":\n",
    "        if i<len(lama) - 1: \n",
    "            if lama[i+1] == \"M\" or lama[i+1] == \"D\":\n",
    "                nguyen -= 100\n",
    "            else:\n",
    "                nguyen += 100 \n",
    "        else:\n",
    "            nguyen += 100 \n",
    "    elif lama[i] == \"L\":\n",
    "        nguyen += 50 \n",
    "    elif lama[i] == \"X\":\n",
    "        if i<len(lama) - 1: \n",
    "            if lama[i+1] == \"L\" or lama[i+1] == \"C\":\n",
    "                nguyen -= 10\n",
    "            else:\n",
    "                nguyen += 10 \n",
    "        else:\n",
    "            nguyen += 10\n",
    "    elif lama[i] == \"V\":\n",
    "        nguyen += 5 \n",
    "    elif lama[i] == \"I\":\n",
    "        if i<len(lama) - 1: \n",
    "            if lama[i+1] == \"V\" or lama[i+1] == \"X\":\n",
    "                nguyen -= 1\n",
    "            else:\n",
    "                nguyen += 1 \n",
    "        else:\n",
    "            nguyen += 1\n",
    "    else:\n",
    "        print(\"False input\")\n",
    "print(nguyen)"
   ]
  },
  {
   "cell_type": "code",
   "execution_count": 24,
   "id": "bfe2e17f",
   "metadata": {},
   "outputs": [
    {
     "name": "stdout",
     "output_type": "stream",
     "text": [
      "What is the size of your train? 2\n",
      " _________________________   ______________________>__\n",
      "|]||[]_[]_[]|||[]_[]_[]||[| |]||[]_[]_[]|||[]_[]_[]||[| \n",
      "\\==o-o======o-o======o-o==/_\\==o-o======o-o======o-o==/\n"
     ]
    }
   ],
   "source": [
    "'''\n",
    "Bonus: Vẽ xe lửa\n",
    "What is the size of your train? 1\n",
    " ______________________>__\n",
    "|]||[]_[]_[]|||[]_[]_[]||[|\n",
    "\\==o-o======o-o======o-o==/\n",
    "\n",
    "What is the size of your train? 2\n",
    " _________________________   ______________________>__\n",
    "|]||[]_[]_[]|||[]_[]_[]||[| |]||[]_[]_[]|||[]_[]_[]||[| \n",
    "\\==o-o======o-o======o-o==/_\\==o-o======o-o======o-o==/\n",
    "\n",
    "'''\n",
    "n = int(input(\"What is the size of your train? \"))\n",
    "for i in range(1, n+1):\n",
    "    if i == n:\n",
    "        print(\" ______________________\" + (i-1)*\"___   ______________________\" + \">__\")\n",
    "        print(i*\"|]||[]_[]_[]|||[]_[]_[]||[| \")\n",
    "        print(\"\\==o-o======o-o======o-o==/\" + (i-1)*\"_\" + (i-1)*\"\\==o-o======o-o======o-o==/\")    "
   ]
  }
 ],
 "metadata": {
  "kernelspec": {
   "display_name": "Python 3 (ipykernel)",
   "language": "python",
   "name": "python3"
  },
  "language_info": {
   "codemirror_mode": {
    "name": "ipython",
    "version": 3
   },
   "file_extension": ".py",
   "mimetype": "text/x-python",
   "name": "python",
   "nbconvert_exporter": "python",
   "pygments_lexer": "ipython3",
   "version": "3.11.5"
  }
 },
 "nbformat": 4,
 "nbformat_minor": 5
}
